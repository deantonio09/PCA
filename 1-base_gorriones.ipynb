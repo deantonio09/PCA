{
 "cells": [
  {
   "cell_type": "markdown",
   "metadata": {},
   "source": [
    "## Autores:\n",
    "Wilder Ramírez\n",
    "\n",
    "Sebastián Deantonio\n",
    "\n",
    "*Métodos Estadísticos*\n",
    "\n",
    "*Maestría en Analítica de Datos*\n",
    "\n",
    "# Definición Actividad\n",
    "***\n",
    "## ***Base de gorriones***\n",
    "> Tomado de  Bumpus, H.C., *Biological Lectures*, Marine Biology Laboratory, Woods Hole, MA, 1898.\n",
    "\n",
    "La base para este ejercicio se encuentra alojada en el [GitHub del curso (birds.csv).](https://github.com/Izainea/ucmadmetodosestadisticos/blob/master/Bases/birds.csv)\n",
    "\n",
    "## ***Ejercicios***\n",
    "\n",
    "1. Haga un análisis de componentes principales con la matriz de correlaciones.\n",
    "\n",
    "2. Compruebe que la suma de valores propios de la matriz de correlaciones es igual a la suma de los elementos de la diagonal *(traza)*.\n",
    "\n",
    "3. De acuerdo a los coeficientes que definen a la primera y segunda componente se dice que la primera indica el tamaño de los pajaros y la segunda la forma. Explique.\n",
    "\n",
    "4. Dibuje el plano factorial (e plano de las dos primeras componentes) y resalte los primeros 21 datos en el gráfico (use otro color para graficarlos, póngales una etiqueta, dibujelos de forma separada,...), si se sabe que sobrevivieron los primeros 21 registros ¿Tiene alguna observación al respecto?\n",
    "\n",
    "5. Haga un biplot de este ejercicio.\n",
    "\n",
    "7. ¿Cuantas componentes recomienda retener si requiero al menos el 90% de variabilidad total?\n",
    "\n",
    "7. Haga ahora un análisis de componentes con la matriz de covarianzas. \n",
    "\n",
    "8. ¿Cómo se ha afectado la escala respecto al ejercicio con correlaciones?\n",
    "\n",
    "9. Compare la proporcion acumulada de porcentaje de variabilidad y explique la diferencia."
   ]
  },
  {
   "cell_type": "markdown",
   "metadata": {},
   "source": [
    "## ***Actividades Preliminares***"
   ]
  },
  {
   "cell_type": "markdown",
   "metadata": {},
   "source": [
    "1.  Importación de librerías\n",
    "***"
   ]
  },
  {
   "cell_type": "code",
   "execution_count": 243,
   "metadata": {},
   "outputs": [],
   "source": [
    "from pydoc import help \n",
    "import pandas as pd\n",
    "import numpy as np\n",
    "import matplotlib.pyplot as plt\n",
    "import seaborn as sns\n",
    "import plotly.express as px\n",
    "from sklearn.decomposition import PCA\n",
    "from sklearn.preprocessing import StandardScaler\n",
    "from tabulate import tabulate"
   ]
  },
  {
   "cell_type": "markdown",
   "metadata": {},
   "source": [
    "2.  Carga de datos\n",
    "***"
   ]
  },
  {
   "cell_type": "code",
   "execution_count": 244,
   "metadata": {},
   "outputs": [],
   "source": [
    "df=\"https://raw.githubusercontent.com/Izainea/ucmadmetodosestadisticos/master/Bases/birds.csv\"\n",
    "data=pd.read_csv(df, sep=\",\", decimal=\".\", encoding='ISO-8859-1', engine='c', quoting=3, low_memory=False)\n",
    "data = data[['Longitud Total','Extensión de las alas','Longitud pico y cabeza','Longitud del húmero','Longitud de la quilla']]"
   ]
  },
  {
   "cell_type": "markdown",
   "metadata": {},
   "source": [
    "3.  Limpieza de datos\n",
    "***"
   ]
  },
  {
   "cell_type": "code",
   "execution_count": 245,
   "metadata": {},
   "outputs": [
    {
     "name": "stdout",
     "output_type": "stream",
     "text": [
      "<class 'pandas.core.frame.DataFrame'>\n",
      "RangeIndex: 49 entries, 0 to 48\n",
      "Data columns (total 5 columns):\n",
      " #   Column                  Non-Null Count  Dtype  \n",
      "---  ------                  --------------  -----  \n",
      " 0   Longitud Total          49 non-null     int64  \n",
      " 1   Extensión de las alas   49 non-null     int64  \n",
      " 2   Longitud pico y cabeza  49 non-null     float64\n",
      " 3   Longitud del húmero     49 non-null     float64\n",
      " 4   Longitud de la quilla   49 non-null     float64\n",
      "dtypes: float64(3), int64(2)\n",
      "memory usage: 2.0 KB\n"
     ]
    },
    {
     "data": {
      "text/html": [
       "<div>\n",
       "<style scoped>\n",
       "    .dataframe tbody tr th:only-of-type {\n",
       "        vertical-align: middle;\n",
       "    }\n",
       "\n",
       "    .dataframe tbody tr th {\n",
       "        vertical-align: top;\n",
       "    }\n",
       "\n",
       "    .dataframe thead th {\n",
       "        text-align: right;\n",
       "    }\n",
       "</style>\n",
       "<table border=\"1\" class=\"dataframe\">\n",
       "  <thead>\n",
       "    <tr style=\"text-align: right;\">\n",
       "      <th></th>\n",
       "      <th>Longitud Total</th>\n",
       "      <th>Extensión de las alas</th>\n",
       "      <th>Longitud pico y cabeza</th>\n",
       "      <th>Longitud del húmero</th>\n",
       "      <th>Longitud de la quilla</th>\n",
       "    </tr>\n",
       "  </thead>\n",
       "  <tbody>\n",
       "    <tr>\n",
       "      <th>count</th>\n",
       "      <td>49.000000</td>\n",
       "      <td>49.000000</td>\n",
       "      <td>49.000000</td>\n",
       "      <td>49.000000</td>\n",
       "      <td>49.000000</td>\n",
       "    </tr>\n",
       "    <tr>\n",
       "      <th>mean</th>\n",
       "      <td>157.979592</td>\n",
       "      <td>241.326531</td>\n",
       "      <td>31.459184</td>\n",
       "      <td>18.469388</td>\n",
       "      <td>20.826531</td>\n",
       "    </tr>\n",
       "    <tr>\n",
       "      <th>std</th>\n",
       "      <td>3.654277</td>\n",
       "      <td>5.067822</td>\n",
       "      <td>0.794753</td>\n",
       "      <td>0.564286</td>\n",
       "      <td>0.991374</td>\n",
       "    </tr>\n",
       "    <tr>\n",
       "      <th>min</th>\n",
       "      <td>152.000000</td>\n",
       "      <td>230.000000</td>\n",
       "      <td>30.100000</td>\n",
       "      <td>17.200000</td>\n",
       "      <td>18.600000</td>\n",
       "    </tr>\n",
       "    <tr>\n",
       "      <th>25%</th>\n",
       "      <td>155.000000</td>\n",
       "      <td>238.000000</td>\n",
       "      <td>30.900000</td>\n",
       "      <td>18.100000</td>\n",
       "      <td>20.200000</td>\n",
       "    </tr>\n",
       "    <tr>\n",
       "      <th>50%</th>\n",
       "      <td>158.000000</td>\n",
       "      <td>242.000000</td>\n",
       "      <td>31.500000</td>\n",
       "      <td>18.500000</td>\n",
       "      <td>20.700000</td>\n",
       "    </tr>\n",
       "    <tr>\n",
       "      <th>75%</th>\n",
       "      <td>161.000000</td>\n",
       "      <td>245.000000</td>\n",
       "      <td>32.000000</td>\n",
       "      <td>18.800000</td>\n",
       "      <td>21.500000</td>\n",
       "    </tr>\n",
       "    <tr>\n",
       "      <th>max</th>\n",
       "      <td>165.000000</td>\n",
       "      <td>252.000000</td>\n",
       "      <td>33.400000</td>\n",
       "      <td>19.800000</td>\n",
       "      <td>23.100000</td>\n",
       "    </tr>\n",
       "  </tbody>\n",
       "</table>\n",
       "</div>"
      ],
      "text/plain": [
       "       Longitud Total  Extensión de las alas  Longitud pico y cabeza  \\\n",
       "count       49.000000              49.000000               49.000000   \n",
       "mean       157.979592             241.326531               31.459184   \n",
       "std          3.654277               5.067822                0.794753   \n",
       "min        152.000000             230.000000               30.100000   \n",
       "25%        155.000000             238.000000               30.900000   \n",
       "50%        158.000000             242.000000               31.500000   \n",
       "75%        161.000000             245.000000               32.000000   \n",
       "max        165.000000             252.000000               33.400000   \n",
       "\n",
       "       Longitud del húmero  Longitud de la quilla  \n",
       "count            49.000000              49.000000  \n",
       "mean             18.469388              20.826531  \n",
       "std               0.564286               0.991374  \n",
       "min              17.200000              18.600000  \n",
       "25%              18.100000              20.200000  \n",
       "50%              18.500000              20.700000  \n",
       "75%              18.800000              21.500000  \n",
       "max              19.800000              23.100000  "
      ]
     },
     "execution_count": 245,
     "metadata": {},
     "output_type": "execute_result"
    }
   ],
   "source": [
    "data.info()\n",
    "data.describe()"
   ]
  },
  {
   "cell_type": "code",
   "execution_count": 246,
   "metadata": {},
   "outputs": [
    {
     "data": {
      "text/plain": [
       "Index(['Longitud Total', 'Extensión de las alas', 'Longitud pico y cabeza',\n",
       "       'Longitud del húmero', 'Longitud de la quilla'],\n",
       "      dtype='object')"
      ]
     },
     "execution_count": 246,
     "metadata": {},
     "output_type": "execute_result"
    }
   ],
   "source": [
    "data.columns"
   ]
  },
  {
   "cell_type": "code",
   "execution_count": 247,
   "metadata": {},
   "outputs": [
    {
     "data": {
      "text/html": [
       "<div>\n",
       "<style scoped>\n",
       "    .dataframe tbody tr th:only-of-type {\n",
       "        vertical-align: middle;\n",
       "    }\n",
       "\n",
       "    .dataframe tbody tr th {\n",
       "        vertical-align: top;\n",
       "    }\n",
       "\n",
       "    .dataframe thead th {\n",
       "        text-align: right;\n",
       "    }\n",
       "</style>\n",
       "<table border=\"1\" class=\"dataframe\">\n",
       "  <thead>\n",
       "    <tr style=\"text-align: right;\">\n",
       "      <th></th>\n",
       "      <th>Longitud Total</th>\n",
       "      <th>Extensión de las alas</th>\n",
       "      <th>Longitud pico y cabeza</th>\n",
       "      <th>Longitud del húmero</th>\n",
       "      <th>Longitud de la quilla</th>\n",
       "    </tr>\n",
       "  </thead>\n",
       "  <tbody>\n",
       "    <tr>\n",
       "      <th>0</th>\n",
       "      <td>156</td>\n",
       "      <td>245</td>\n",
       "      <td>31.6</td>\n",
       "      <td>18.5</td>\n",
       "      <td>20.5</td>\n",
       "    </tr>\n",
       "    <tr>\n",
       "      <th>1</th>\n",
       "      <td>154</td>\n",
       "      <td>240</td>\n",
       "      <td>30.4</td>\n",
       "      <td>17.9</td>\n",
       "      <td>19.6</td>\n",
       "    </tr>\n",
       "    <tr>\n",
       "      <th>2</th>\n",
       "      <td>153</td>\n",
       "      <td>240</td>\n",
       "      <td>31.0</td>\n",
       "      <td>18.4</td>\n",
       "      <td>20.6</td>\n",
       "    </tr>\n",
       "    <tr>\n",
       "      <th>3</th>\n",
       "      <td>153</td>\n",
       "      <td>236</td>\n",
       "      <td>30.9</td>\n",
       "      <td>17.7</td>\n",
       "      <td>20.2</td>\n",
       "    </tr>\n",
       "    <tr>\n",
       "      <th>4</th>\n",
       "      <td>155</td>\n",
       "      <td>243</td>\n",
       "      <td>31.5</td>\n",
       "      <td>18.6</td>\n",
       "      <td>20.3</td>\n",
       "    </tr>\n",
       "  </tbody>\n",
       "</table>\n",
       "</div>"
      ],
      "text/plain": [
       "   Longitud Total  Extensión de las alas  Longitud pico y cabeza  \\\n",
       "0             156                    245                    31.6   \n",
       "1             154                    240                    30.4   \n",
       "2             153                    240                    31.0   \n",
       "3             153                    236                    30.9   \n",
       "4             155                    243                    31.5   \n",
       "\n",
       "   Longitud del húmero  Longitud de la quilla  \n",
       "0                 18.5                   20.5  \n",
       "1                 17.9                   19.6  \n",
       "2                 18.4                   20.6  \n",
       "3                 17.7                   20.2  \n",
       "4                 18.6                   20.3  "
      ]
     },
     "execution_count": 247,
     "metadata": {},
     "output_type": "execute_result"
    }
   ],
   "source": [
    "data.head()"
   ]
  },
  {
   "cell_type": "markdown",
   "metadata": {},
   "source": [
    "4. Análisis descriptivo\n",
    "***"
   ]
  },
  {
   "cell_type": "markdown",
   "metadata": {},
   "source": [
    "## ***Desarrollo***"
   ]
  },
  {
   "cell_type": "markdown",
   "metadata": {},
   "source": [
    "1. Haga un análisis de componentes principales con la matriz de correlaciones.\n",
    "***"
   ]
  },
  {
   "cell_type": "code",
   "execution_count": 248,
   "metadata": {
    "scrolled": true
   },
   "outputs": [],
   "source": [
    "correlacion = data.corr()"
   ]
  },
  {
   "cell_type": "markdown",
   "metadata": {},
   "source": [
    "Mapa de correlaciones:"
   ]
  },
  {
   "cell_type": "code",
   "execution_count": 249,
   "metadata": {},
   "outputs": [
    {
     "data": {
      "image/png": "[encoded data removed]",
      "text/plain": [
       "<Figure size 432x288 with 2 Axes>"
      ]
     },
     "metadata": {
      "needs_background": "light"
     },
     "output_type": "display_data"
    }
   ],
   "source": [
    "sns.heatmap(correlacion, annot=True)\n",
    "plt.show()"
   ]
  },
  {
   "cell_type": "markdown",
   "metadata": {},
   "source": [
    "Escalamiento de datos"
   ]
  },
  {
   "cell_type": "code",
   "execution_count": 250,
   "metadata": {},
   "outputs": [
    {
     "name": "stdout",
     "output_type": "stream",
     "text": [
      "Dimensión data escalada: (49, 5)\n"
     ]
    }
   ],
   "source": [
    "escala=StandardScaler()\n",
    "escala.fit(data)\n",
    "CuantiScale=escala.transform(data)\n",
    "print('Dimensión data escalada:',CuantiScale.shape)"
   ]
  },
  {
   "cell_type": "markdown",
   "metadata": {},
   "source": [
    "### Construcción de PCA\n",
    "\n",
    "Creamos un objeto PCA"
   ]
  },
  {
   "cell_type": "code",
   "execution_count": 251,
   "metadata": {},
   "outputs": [
    {
     "name": "stdout",
     "output_type": "stream",
     "text": [
      "Ajuste de PCA (49, 5)\n",
      "[0.72319567 0.10630082]\n",
      "Variabilidad del: 82.94964842365756 %\n"
     ]
    }
   ],
   "source": [
    "pca=PCA(n_components=2)\n",
    "pca.fit(CuantiScale)\n",
    "cuanti_pca=pca.transform(CuantiScale)\n",
    "print(\"Ajuste de PCA\", CuantiScale.shape)\n",
    "expl = pca.explained_variance_ratio_\n",
    "print(expl)\n",
    "print('Variabilidad del:',sum(expl[0:6])*100,'%')"
   ]
  },
  {
   "cell_type": "code",
   "execution_count": 252,
   "metadata": {},
   "outputs": [
    {
     "name": "stdout",
     "output_type": "stream",
     "text": [
      "[0.72319567 0.10630082]\n"
     ]
    },
    {
     "data": {
      "image/png": "[encoded data removed]",
      "text/plain": [
       "<Figure size 432x288 with 1 Axes>"
      ]
     },
     "metadata": {
      "needs_background": "light"
     },
     "output_type": "display_data"
    }
   ],
   "source": [
    "print(pca.explained_variance_ratio_)\n",
    "pca_cor=pca.explained_variance_ratio_\n",
    "a=len(pca.components_)+1\n",
    "y=range(1,a)\n",
    "plt.plot(range(len(pca.components_)+1), np.concatenate((np.array([0]),np.cumsum(pca.explained_variance_ratio_))))\n",
    "plt.xlabel('Número de componentes')\n",
    "plt.ylabel('Indicador de varianza explicada')\n",
    "plt.title('Nivel de explicación de las componentes')\n",
    "plt.show()"
   ]
  },
  {
   "cell_type": "code",
   "execution_count": 253,
   "metadata": {},
   "outputs": [
    {
     "data": {
      "text/plain": [
       "(array([3.61597834, 0.16452751, 0.30156552, 0.38642455, 0.53150408]),\n",
       " array([[-0.45179893, -0.3739091 ,  0.42041399, -0.69047023,  0.05072137],\n",
       "        [-0.46168085,  0.53008046, -0.54786307, -0.34054844, -0.29956355],\n",
       "        [-0.45054161,  0.34279226,  0.60629605,  0.45449265, -0.32457242],\n",
       "        [-0.47073887, -0.65166652, -0.38827811,  0.410935  , -0.18468403],\n",
       "        [-0.39767537,  0.19243414, -0.06887199,  0.1784558 ,  0.87648935]]))"
      ]
     },
     "execution_count": 253,
     "metadata": {},
     "output_type": "execute_result"
    }
   ],
   "source": [
    "cp = np.linalg.eig(correlacion)\n",
    "cp"
   ]
  },
  {
   "cell_type": "markdown",
   "metadata": {},
   "source": [
    "2. Compruebe que la suma de valores propios de la matriz de correlaciones es igual a la suma de los elementos de la diagonal (traza).\n",
    "***"
   ]
  },
  {
   "cell_type": "code",
   "execution_count": 254,
   "metadata": {},
   "outputs": [
    {
     "data": {
      "text/plain": [
       "5.000000000000002"
      ]
     },
     "execution_count": 254,
     "metadata": {},
     "output_type": "execute_result"
    }
   ],
   "source": [
    "ValP = np.linalg.eig(correlacion.values)[0]\n",
    "total = np.cumsum(ValP)\n",
    "total[-1]"
   ]
  },
  {
   "cell_type": "code",
   "execution_count": 255,
   "metadata": {},
   "outputs": [
    {
     "data": {
      "text/plain": [
       "5"
      ]
     },
     "execution_count": 255,
     "metadata": {},
     "output_type": "execute_result"
    }
   ],
   "source": [
    "suma_elementos_diagonal = len(cp[0])\n",
    "suma_elementos_diagonal"
   ]
  },
  {
   "cell_type": "markdown",
   "metadata": {},
   "source": [
    "3. De acuerdo a los coeficientes que definen a la primera y segunda componente se dice que la primera indica el tamaño de los pajaros y la segunda la forma. Explique.\n",
    "***"
   ]
  },
  {
   "cell_type": "code",
   "execution_count": 256,
   "metadata": {
    "scrolled": false
   },
   "outputs": [],
   "source": [
    "s = np.cov(CuantiScale.T)\n",
    "autovalores, vectores = np.linalg.eig(s)                                                                                    "
   ]
  },
  {
   "cell_type": "code",
   "execution_count": 257,
   "metadata": {},
   "outputs": [
    {
     "name": "stdout",
     "output_type": "stream",
     "text": [
      "Correlación entre las variables y las primeras dos componentes:  \n",
      " \n",
      " ╒═══════════════════════╤═══════════╤════════════╕\n",
      "│ Variables             │      PCA1 │       PCA2 │\n",
      "╞═══════════════════════╪═══════════╪════════════╡\n",
      "│ Longitud Total        │ -0.859128 │ -0.87792   │\n",
      "├───────────────────────┼───────────┼────────────┤\n",
      "│ Extensión de las alas │ -0.856738 │ -0.895144  │\n",
      "├───────────────────────┼───────────┼────────────┤\n",
      "│ Longitud pico-cabeza  │ -0.756209 │ -0.151665  │\n",
      "├───────────────────────┼───────────┼────────────┤\n",
      "│ Longitud del humero   │  0.215011 │  0.139043  │\n",
      "├───────────────────────┼───────────┼────────────┤\n",
      "│ Longitud de quilla    │ -0.264329 │  0.0780551 │\n",
      "╘═══════════════════════╧═══════════╧════════════╛\n"
     ]
    }
   ],
   "source": [
    "coeficientes = []\n",
    "\n",
    "for i in range(0,2):\n",
    "    for j in range(0,5):\n",
    "        vap = autovalores[i]\n",
    "        cor = s[i,i]\n",
    "        vep = vectores[j,i]\n",
    "        coef = vep * np.sqrt(vap) / np.sqrt(cor)\n",
    "        coeficientes.append(coef)\n",
    "        \n",
    "print('Correlación entre las variables y las primeras dos componentes: ', '\\n', '\\n',tabulate(np.array(coeficientes).reshape(5,2), headers=[\"Variables\",\"PCA1\", \"PCA2\"], \n",
    "               showindex=['Longitud Total','Extensión de las alas','Longitud pico-cabeza','Longitud del humero','Longitud de quilla'], tablefmt='fancy_grid'))        "
   ]
  },
  {
   "cell_type": "markdown",
   "metadata": {},
   "source": [
    "4. Dibuje el plano factorial (e plano de las dos primeras componentes) y resalte los primeros 21 datos en el gráfico (use otro color para graficarlos, póngales una etiqueta, dibujelos de forma separada,...), si se sabe que sobrevivieron los primeros 21 registros ¿Tiene alguna observación al respecto?\n",
    "***"
   ]
  },
  {
   "cell_type": "code",
   "execution_count": 258,
   "metadata": {},
   "outputs": [],
   "source": [
    "Pca_Tra=pd.DataFrame(cuanti_pca, index=data.index, columns=['PC1','PC2'])"
   ]
  },
  {
   "cell_type": "code",
   "execution_count": 259,
   "metadata": {},
   "outputs": [],
   "source": [
    "p21 = Pca_Tra[:21]"
   ]
  },
  {
   "cell_type": "code",
   "execution_count": 280,
   "metadata": {},
   "outputs": [
    {
     "data": {
      "application/vnd.plotly.v1+json": {
       "config": {
        "plotlyServerURL": "https://plot.ly"
       },
       "data": [
        {
         "mode": "markers",
         "name": "Total",
         "type": "scatter",
         "x": [
          -0.06495523248431252,
          2.202907344390144,
          1.1574371375389036,
          2.335015158066455,
          0.29809954095515767,
          -1.9361201519866011,
          1.061252556672112,
          -0.4430861577140921,
          -2.719365390815937,
          -0.18761388372551896,
          -0.37496066243407555,
          -0.2704799738091082,
          -2.3836956595709196,
          -0.7220532786085231,
          1.4087009592306126,
          1.5748310276120094,
          -0.5540121548092656,
          1.674896458341507,
          1.7950798249971565,
          -2.1986065506483548,
          0.4621122249795824,
          0.9751125705000382,
          0.6648747991578265,
          -1.6004695076319262,
          3.7553217538563133,
          -2.145566777267741,
          1.3426257586894685,
          -1.7411628577198976,
          -4.0357304644042165,
          3.7527167467309863,
          -0.14991611531669,
          -1.2074611319310358,
          -1.0406106671408724,
          0.722228764893572,
          0.3207555657438832,
          -2.825315529257867,
          4.284198080133355,
          0.5475031577434565,
          1.9254514392938507,
          -4.113575164242922,
          -0.06349020520897605,
          0.9480421092406534,
          0.42722773512437495,
          -1.6032316747784778,
          2.534955272758827,
          -1.6355666914570575,
          1.575163874012607,
          -1.5731246781062993,
          -2.1563392995921644
         ],
         "y": [
          -0.6070635888888788,
          -0.4468843667541339,
          0.01945365055505282,
          0.1737750276345259,
          -0.6721013563391444,
          -0.6014230477034924,
          -0.12105243646418096,
          -0.16567177606600586,
          -0.7903734752513977,
          1.3273362921329213,
          1.1502374803723756,
          -0.3179996760052412,
          0.01121066473221454,
          -1.403136847832041,
          -0.44756476885028984,
          0.14624687207063847,
          0.545837997886292,
          0.6793328676562773,
          0.09552678295738225,
          0.27753674073600454,
          1.0723991183786294,
          0.10405054475293912,
          -0.0786519465216727,
          0.18830501418322287,
          0.4542496779045305,
          0.7965028012021936,
          -0.3423627391785552,
          -0.36734555965266136,
          0.43553836025459935,
          0.5774542296668125,
          2.8596955694740247,
          0.211944394181814,
          0.4244156541132048,
          -1.6032449631376686,
          0.5018197878404858,
          0.2553911236635943,
          -0.5725669495657731,
          0.043483198709348914,
          -0.9114977621183684,
          0.23334067074618195,
          0.22877679649365043,
          -0.24999002013473928,
          -0.25125270757402185,
          -0.6736821378334418,
          -0.19189507911036796,
          -1.0538909870002569,
          0.11888305051728137,
          -0.3583176213335039,
          -0.7047745555003617
         ]
        },
        {
         "mode": "markers",
         "name": "Sobrevivientes",
         "type": "scatter",
         "x": [
          -0.06495523248431252,
          2.202907344390144,
          1.1574371375389036,
          2.335015158066455,
          0.29809954095515767,
          -1.9361201519866011,
          1.061252556672112,
          -0.4430861577140921,
          -2.719365390815937,
          -0.18761388372551896,
          -0.37496066243407555,
          -0.2704799738091082,
          -2.3836956595709196,
          -0.7220532786085231,
          1.4087009592306126,
          1.5748310276120094,
          -0.5540121548092656,
          1.674896458341507,
          1.7950798249971565,
          -2.1986065506483548,
          0.4621122249795824
         ],
         "y": [
          -0.6070635888888788,
          -0.4468843667541339,
          0.01945365055505282,
          0.1737750276345259,
          -0.6721013563391444,
          -0.6014230477034924,
          -0.12105243646418096,
          -0.16567177606600586,
          -0.7903734752513977,
          1.3273362921329213,
          1.1502374803723756,
          -0.3179996760052412,
          0.01121066473221454,
          -1.403136847832041,
          -0.44756476885028984,
          0.14624687207063847,
          0.545837997886292,
          0.6793328676562773,
          0.09552678295738225,
          0.27753674073600454,
          1.0723991183786294
         ]
        }
       ],
       "layout": {
        "template": {
         "data": {
          "bar": [
           {
            "error_x": {
             "color": "#2a3f5f"
            },
            "error_y": {
             "color": "#2a3f5f"
            },
            "marker": {
             "line": {
              "color": "#E5ECF6",
              "width": 0.5
             }
            },
            "type": "bar"
           }
          ],
          "barpolar": [
           {
            "marker": {
             "line": {
              "color": "#E5ECF6",
              "width": 0.5
             }
            },
            "type": "barpolar"
           }
          ],
          "carpet": [
           {
            "aaxis": {
             "endlinecolor": "#2a3f5f",
             "gridcolor": "white",
             "linecolor": "white",
             "minorgridcolor": "white",
             "startlinecolor": "#2a3f5f"
            },
            "baxis": {
             "endlinecolor": "#2a3f5f",
             "gridcolor": "white",
             "linecolor": "white",
             "minorgridcolor": "white",
             "startlinecolor": "#2a3f5f"
            },
            "type": "carpet"
           }
          ],
          "choropleth": [
           {
            "colorbar": {
             "outlinewidth": 0,
             "ticks": ""
            },
            "type": "choropleth"
           }
          ],
          "contour": [
           {
            "colorbar": {
             "outlinewidth": 0,
             "ticks": ""
            },
            "colorscale": [
             [
              0,
              "#0d0887"
             ],
             [
              0.1111111111111111,
              "#46039f"
             ],
             [
              0.2222222222222222,
              "#7201a8"
             ],
             [
              0.3333333333333333,
              "#9c179e"
             ],
             [
              0.4444444444444444,
              "#bd3786"
             ],
             [
              0.5555555555555556,
              "#d8576b"
             ],
             [
              0.6666666666666666,
              "#ed7953"
             ],
             [
              0.7777777777777778,
              "#fb9f3a"
             ],
             [
              0.8888888888888888,
              "#fdca26"
             ],
             [
              1,
              "#f0f921"
             ]
            ],
            "type": "contour"
           }
          ],
          "contourcarpet": [
           {
            "colorbar": {
             "outlinewidth": 0,
             "ticks": ""
            },
            "type": "contourcarpet"
           }
          ],
          "heatmap": [
           {
            "colorbar": {
             "outlinewidth": 0,
             "ticks": ""
            },
            "colorscale": [
             [
              0,
              "#0d0887"
             ],
             [
              0.1111111111111111,
              "#46039f"
             ],
             [
              0.2222222222222222,
              "#7201a8"
             ],
             [
              0.3333333333333333,
              "#9c179e"
             ],
             [
              0.4444444444444444,
              "#bd3786"
             ],
             [
              0.5555555555555556,
              "#d8576b"
             ],
             [
              0.6666666666666666,
              "#ed7953"
             ],
             [
              0.7777777777777778,
              "#fb9f3a"
             ],
             [
              0.8888888888888888,
              "#fdca26"
             ],
             [
              1,
              "#f0f921"
             ]
            ],
            "type": "heatmap"
           }
          ],
          "heatmapgl": [
           {
            "colorbar": {
             "outlinewidth": 0,
             "ticks": ""
            },
            "colorscale": [
             [
              0,
              "#0d0887"
             ],
             [
              0.1111111111111111,
              "#46039f"
             ],
             [
              0.2222222222222222,
              "#7201a8"
             ],
             [
              0.3333333333333333,
              "#9c179e"
             ],
             [
              0.4444444444444444,
              "#bd3786"
             ],
             [
              0.5555555555555556,
              "#d8576b"
             ],
             [
              0.6666666666666666,
              "#ed7953"
             ],
             [
              0.7777777777777778,
              "#fb9f3a"
             ],
             [
              0.8888888888888888,
              "#fdca26"
             ],
             [
              1,
              "#f0f921"
             ]
            ],
            "type": "heatmapgl"
           }
          ],
          "histogram": [
           {
            "marker": {
             "colorbar": {
              "outlinewidth": 0,
              "ticks": ""
             }
            },
            "type": "histogram"
           }
          ],
          "histogram2d": [
           {
            "colorbar": {
             "outlinewidth": 0,
             "ticks": ""
            },
            "colorscale": [
             [
              0,
              "#0d0887"
             ],
             [
              0.1111111111111111,
              "#46039f"
             ],
             [
              0.2222222222222222,
              "#7201a8"
             ],
             [
              0.3333333333333333,
              "#9c179e"
             ],
             [
              0.4444444444444444,
              "#bd3786"
             ],
             [
              0.5555555555555556,
              "#d8576b"
             ],
             [
              0.6666666666666666,
              "#ed7953"
             ],
             [
              0.7777777777777778,
              "#fb9f3a"
             ],
             [
              0.8888888888888888,
              "#fdca26"
             ],
             [
              1,
              "#f0f921"
             ]
            ],
            "type": "histogram2d"
           }
          ],
          "histogram2dcontour": [
           {
            "colorbar": {
             "outlinewidth": 0,
             "ticks": ""
            },
            "colorscale": [
             [
              0,
              "#0d0887"
             ],
             [
              0.1111111111111111,
              "#46039f"
             ],
             [
              0.2222222222222222,
              "#7201a8"
             ],
             [
              0.3333333333333333,
              "#9c179e"
             ],
             [
              0.4444444444444444,
              "#bd3786"
             ],
             [
              0.5555555555555556,
              "#d8576b"
             ],
             [
              0.6666666666666666,
              "#ed7953"
             ],
             [
              0.7777777777777778,
              "#fb9f3a"
             ],
             [
              0.8888888888888888,
              "#fdca26"
             ],
             [
              1,
              "#f0f921"
             ]
            ],
            "type": "histogram2dcontour"
           }
          ],
          "mesh3d": [
           {
            "colorbar": {
             "outlinewidth": 0,
             "ticks": ""
            },
            "type": "mesh3d"
           }
          ],
          "parcoords": [
           {
            "line": {
             "colorbar": {
              "outlinewidth": 0,
              "ticks": ""
             }
            },
            "type": "parcoords"
           }
          ],
          "pie": [
           {
            "automargin": true,
            "type": "pie"
           }
          ],
          "scatter": [
           {
            "marker": {
             "colorbar": {
              "outlinewidth": 0,
              "ticks": ""
             }
            },
            "type": "scatter"
           }
          ],
          "scatter3d": [
           {
            "line": {
             "colorbar": {
              "outlinewidth": 0,
              "ticks": ""
             }
            },
            "marker": {
             "colorbar": {
              "outlinewidth": 0,
              "ticks": ""
             }
            },
            "type": "scatter3d"
           }
          ],
          "scattercarpet": [
           {
            "marker": {
             "colorbar": {
              "outlinewidth": 0,
              "ticks": ""
             }
            },
            "type": "scattercarpet"
           }
          ],
          "scattergeo": [
           {
            "marker": {
             "colorbar": {
              "outlinewidth": 0,
              "ticks": ""
             }
            },
            "type": "scattergeo"
           }
          ],
          "scattergl": [
           {
            "marker": {
             "colorbar": {
              "outlinewidth": 0,
              "ticks": ""
             }
            },
            "type": "scattergl"
           }
          ],
          "scattermapbox": [
           {
            "marker": {
             "colorbar": {
              "outlinewidth": 0,
              "ticks": ""
             }
            },
            "type": "scattermapbox"
           }
          ],
          "scatterpolar": [
           {
            "marker": {
             "colorbar": {
              "outlinewidth": 0,
              "ticks": ""
             }
            },
            "type": "scatterpolar"
           }
          ],
          "scatterpolargl": [
           {
            "marker": {
             "colorbar": {
              "outlinewidth": 0,
              "ticks": ""
             }
            },
            "type": "scatterpolargl"
           }
          ],
          "scatterternary": [
           {
            "marker": {
             "colorbar": {
              "outlinewidth": 0,
              "ticks": ""
             }
            },
            "type": "scatterternary"
           }
          ],
          "surface": [
           {
            "colorbar": {
             "outlinewidth": 0,
             "ticks": ""
            },
            "colorscale": [
             [
              0,
              "#0d0887"
             ],
             [
              0.1111111111111111,
              "#46039f"
             ],
             [
              0.2222222222222222,
              "#7201a8"
             ],
             [
              0.3333333333333333,
              "#9c179e"
             ],
             [
              0.4444444444444444,
              "#bd3786"
             ],
             [
              0.5555555555555556,
              "#d8576b"
             ],
             [
              0.6666666666666666,
              "#ed7953"
             ],
             [
              0.7777777777777778,
              "#fb9f3a"
             ],
             [
              0.8888888888888888,
              "#fdca26"
             ],
             [
              1,
              "#f0f921"
             ]
            ],
            "type": "surface"
           }
          ],
          "table": [
           {
            "cells": {
             "fill": {
              "color": "#EBF0F8"
             },
             "line": {
              "color": "white"
             }
            },
            "header": {
             "fill": {
              "color": "#C8D4E3"
             },
             "line": {
              "color": "white"
             }
            },
            "type": "table"
           }
          ]
         },
         "layout": {
          "annotationdefaults": {
           "arrowcolor": "#2a3f5f",
           "arrowhead": 0,
           "arrowwidth": 1
          },
          "coloraxis": {
           "colorbar": {
            "outlinewidth": 0,
            "ticks": ""
           }
          },
          "colorscale": {
           "diverging": [
            [
             0,
             "#8e0152"
            ],
            [
             0.1,
             "#c51b7d"
            ],
            [
             0.2,
             "#de77ae"
            ],
            [
             0.3,
             "#f1b6da"
            ],
            [
             0.4,
             "#fde0ef"
            ],
            [
             0.5,
             "#f7f7f7"
            ],
            [
             0.6,
             "#e6f5d0"
            ],
            [
             0.7,
             "#b8e186"
            ],
            [
             0.8,
             "#7fbc41"
            ],
            [
             0.9,
             "#4d9221"
            ],
            [
             1,
             "#276419"
            ]
           ],
           "sequential": [
            [
             0,
             "#0d0887"
            ],
            [
             0.1111111111111111,
             "#46039f"
            ],
            [
             0.2222222222222222,
             "#7201a8"
            ],
            [
             0.3333333333333333,
             "#9c179e"
            ],
            [
             0.4444444444444444,
             "#bd3786"
            ],
            [
             0.5555555555555556,
             "#d8576b"
            ],
            [
             0.6666666666666666,
             "#ed7953"
            ],
            [
             0.7777777777777778,
             "#fb9f3a"
            ],
            [
             0.8888888888888888,
             "#fdca26"
            ],
            [
             1,
             "#f0f921"
            ]
           ],
           "sequentialminus": [
            [
             0,
             "#0d0887"
            ],
            [
             0.1111111111111111,
             "#46039f"
            ],
            [
             0.2222222222222222,
             "#7201a8"
            ],
            [
             0.3333333333333333,
             "#9c179e"
            ],
            [
             0.4444444444444444,
             "#bd3786"
            ],
            [
             0.5555555555555556,
             "#d8576b"
            ],
            [
             0.6666666666666666,
             "#ed7953"
            ],
            [
             0.7777777777777778,
             "#fb9f3a"
            ],
            [
             0.8888888888888888,
             "#fdca26"
            ],
            [
             1,
             "#f0f921"
            ]
           ]
          },
          "colorway": [
           "#636efa",
           "#EF553B",
           "#00cc96",
           "#ab63fa",
           "#FFA15A",
           "#19d3f3",
           "#FF6692",
           "#B6E880",
           "#FF97FF",
           "#FECB52"
          ],
          "font": {
           "color": "#2a3f5f"
          },
          "geo": {
           "bgcolor": "white",
           "lakecolor": "white",
           "landcolor": "#E5ECF6",
           "showlakes": true,
           "showland": true,
           "subunitcolor": "white"
          },
          "hoverlabel": {
           "align": "left"
          },
          "hovermode": "closest",
          "mapbox": {
           "style": "light"
          },
          "paper_bgcolor": "white",
          "plot_bgcolor": "#E5ECF6",
          "polar": {
           "angularaxis": {
            "gridcolor": "white",
            "linecolor": "white",
            "ticks": ""
           },
           "bgcolor": "#E5ECF6",
           "radialaxis": {
            "gridcolor": "white",
            "linecolor": "white",
            "ticks": ""
           }
          },
          "scene": {
           "xaxis": {
            "backgroundcolor": "#E5ECF6",
            "gridcolor": "white",
            "gridwidth": 2,
            "linecolor": "white",
            "showbackground": true,
            "ticks": "",
            "zerolinecolor": "white"
           },
           "yaxis": {
            "backgroundcolor": "#E5ECF6",
            "gridcolor": "white",
            "gridwidth": 2,
            "linecolor": "white",
            "showbackground": true,
            "ticks": "",
            "zerolinecolor": "white"
           },
           "zaxis": {
            "backgroundcolor": "#E5ECF6",
            "gridcolor": "white",
            "gridwidth": 2,
            "linecolor": "white",
            "showbackground": true,
            "ticks": "",
            "zerolinecolor": "white"
           }
          },
          "shapedefaults": {
           "line": {
            "color": "#2a3f5f"
           }
          },
          "ternary": {
           "aaxis": {
            "gridcolor": "white",
            "linecolor": "white",
            "ticks": ""
           },
           "baxis": {
            "gridcolor": "white",
            "linecolor": "white",
            "ticks": ""
           },
           "bgcolor": "#E5ECF6",
           "caxis": {
            "gridcolor": "white",
            "linecolor": "white",
            "ticks": ""
           }
          },
          "title": {
           "x": 0.05
          },
          "xaxis": {
           "automargin": true,
           "gridcolor": "white",
           "linecolor": "white",
           "ticks": "",
           "title": {
            "standoff": 15
           },
           "zerolinecolor": "white",
           "zerolinewidth": 2
          },
          "yaxis": {
           "automargin": true,
           "gridcolor": "white",
           "linecolor": "white",
           "ticks": "",
           "title": {
            "standoff": 15
           },
           "zerolinecolor": "white",
           "zerolinewidth": 2
          }
         }
        },
        "title": {
         "text": "Plano factorial de las 2 primeras componentes"
        }
       }
      },
      "text/html": [
       "<div>                            <div id=\"4a9f26d3-d1db-4c72-882d-f5ba09922ffa\" class=\"plotly-graph-div\" style=\"height:525px; width:100%;\"></div>            <script type=\"text/javascript\">                require([\"plotly\"], function(Plotly) {                    window.PLOTLYENV=window.PLOTLYENV || {};                                    if (document.getElementById(\"4a9f26d3-d1db-4c72-882d-f5ba09922ffa\")) {                    Plotly.newPlot(                        \"4a9f26d3-d1db-4c72-882d-f5ba09922ffa\",                        [{\"mode\": \"markers\", \"name\": \"Total\", \"type\": \"scatter\", \"x\": [-0.06495523248431252, 2.202907344390144, 1.1574371375389036, 2.335015158066455, 0.29809954095515767, -1.9361201519866011, 1.061252556672112, -0.4430861577140921, -2.719365390815937, -0.18761388372551896, -0.37496066243407555, -0.2704799738091082, -2.3836956595709196, -0.7220532786085231, 1.4087009592306126, 1.5748310276120094, -0.5540121548092656, 1.674896458341507, 1.7950798249971565, -2.1986065506483548, 0.4621122249795824, 0.9751125705000382, 0.6648747991578265, -1.6004695076319262, 3.7553217538563133, -2.145566777267741, 1.3426257586894685, -1.7411628577198976, -4.0357304644042165, 3.7527167467309863, -0.14991611531669, -1.2074611319310358, -1.0406106671408724, 0.722228764893572, 0.3207555657438832, -2.825315529257867, 4.284198080133355, 0.5475031577434565, 1.9254514392938507, -4.113575164242922, -0.06349020520897605, 0.9480421092406534, 0.42722773512437495, -1.6032316747784778, 2.534955272758827, -1.6355666914570575, 1.575163874012607, -1.5731246781062993, -2.1563392995921644], \"y\": [-0.6070635888888788, -0.4468843667541339, 0.01945365055505282, 0.1737750276345259, -0.6721013563391444, -0.6014230477034924, -0.12105243646418096, -0.16567177606600586, -0.7903734752513977, 1.3273362921329213, 1.1502374803723756, -0.3179996760052412, 0.01121066473221454, -1.403136847832041, -0.44756476885028984, 0.14624687207063847, 0.545837997886292, 0.6793328676562773, 0.09552678295738225, 0.27753674073600454, 1.0723991183786294, 0.10405054475293912, -0.0786519465216727, 0.18830501418322287, 0.4542496779045305, 0.7965028012021936, -0.3423627391785552, -0.36734555965266136, 0.43553836025459935, 0.5774542296668125, 2.8596955694740247, 0.211944394181814, 0.4244156541132048, -1.6032449631376686, 0.5018197878404858, 0.2553911236635943, -0.5725669495657731, 0.043483198709348914, -0.9114977621183684, 0.23334067074618195, 0.22877679649365043, -0.24999002013473928, -0.25125270757402185, -0.6736821378334418, -0.19189507911036796, -1.0538909870002569, 0.11888305051728137, -0.3583176213335039, -0.7047745555003617]}, {\"mode\": \"markers\", \"name\": \"Sobrevivientes\", \"type\": \"scatter\", \"x\": [-0.06495523248431252, 2.202907344390144, 1.1574371375389036, 2.335015158066455, 0.29809954095515767, -1.9361201519866011, 1.061252556672112, -0.4430861577140921, -2.719365390815937, -0.18761388372551896, -0.37496066243407555, -0.2704799738091082, -2.3836956595709196, -0.7220532786085231, 1.4087009592306126, 1.5748310276120094, -0.5540121548092656, 1.674896458341507, 1.7950798249971565, -2.1986065506483548, 0.4621122249795824], \"y\": [-0.6070635888888788, -0.4468843667541339, 0.01945365055505282, 0.1737750276345259, -0.6721013563391444, -0.6014230477034924, -0.12105243646418096, -0.16567177606600586, -0.7903734752513977, 1.3273362921329213, 1.1502374803723756, -0.3179996760052412, 0.01121066473221454, -1.403136847832041, -0.44756476885028984, 0.14624687207063847, 0.545837997886292, 0.6793328676562773, 0.09552678295738225, 0.27753674073600454, 1.0723991183786294]}],                        {\"template\": {\"data\": {\"bar\": [{\"error_x\": {\"color\": \"#2a3f5f\"}, \"error_y\": {\"color\": \"#2a3f5f\"}, \"marker\": {\"line\": {\"color\": \"#E5ECF6\", \"width\": 0.5}}, \"type\": \"bar\"}], \"barpolar\": [{\"marker\": {\"line\": {\"color\": \"#E5ECF6\", \"width\": 0.5}}, \"type\": \"barpolar\"}], \"carpet\": [{\"aaxis\": {\"endlinecolor\": \"#2a3f5f\", \"gridcolor\": \"white\", \"linecolor\": \"white\", \"minorgridcolor\": \"white\", \"startlinecolor\": \"#2a3f5f\"}, \"baxis\": {\"endlinecolor\": \"#2a3f5f\", \"gridcolor\": \"white\", \"linecolor\": \"white\", \"minorgridcolor\": \"white\", \"startlinecolor\": \"#2a3f5f\"}, \"type\": \"carpet\"}], \"choropleth\": [{\"colorbar\": {\"outlinewidth\": 0, \"ticks\": \"\"}, \"type\": \"choropleth\"}], \"contour\": [{\"colorbar\": {\"outlinewidth\": 0, \"ticks\": \"\"}, \"colorscale\": [[0.0, \"#0d0887\"], [0.1111111111111111, \"#46039f\"], [0.2222222222222222, \"#7201a8\"], [0.3333333333333333, \"#9c179e\"], [0.4444444444444444, \"#bd3786\"], [0.5555555555555556, \"#d8576b\"], [0.6666666666666666, \"#ed7953\"], [0.7777777777777778, \"#fb9f3a\"], [0.8888888888888888, \"#fdca26\"], [1.0, \"#f0f921\"]], \"type\": \"contour\"}], \"contourcarpet\": [{\"colorbar\": {\"outlinewidth\": 0, \"ticks\": \"\"}, \"type\": \"contourcarpet\"}], \"heatmap\": [{\"colorbar\": {\"outlinewidth\": 0, \"ticks\": \"\"}, \"colorscale\": [[0.0, \"#0d0887\"], [0.1111111111111111, \"#46039f\"], [0.2222222222222222, \"#7201a8\"], [0.3333333333333333, \"#9c179e\"], [0.4444444444444444, \"#bd3786\"], [0.5555555555555556, \"#d8576b\"], [0.6666666666666666, \"#ed7953\"], [0.7777777777777778, \"#fb9f3a\"], [0.8888888888888888, \"#fdca26\"], [1.0, \"#f0f921\"]], \"type\": \"heatmap\"}], \"heatmapgl\": [{\"colorbar\": {\"outlinewidth\": 0, \"ticks\": \"\"}, \"colorscale\": [[0.0, \"#0d0887\"], [0.1111111111111111, \"#46039f\"], [0.2222222222222222, \"#7201a8\"], [0.3333333333333333, \"#9c179e\"], [0.4444444444444444, \"#bd3786\"], [0.5555555555555556, \"#d8576b\"], [0.6666666666666666, \"#ed7953\"], [0.7777777777777778, \"#fb9f3a\"], [0.8888888888888888, \"#fdca26\"], [1.0, \"#f0f921\"]], \"type\": \"heatmapgl\"}], \"histogram\": [{\"marker\": {\"colorbar\": {\"outlinewidth\": 0, \"ticks\": \"\"}}, \"type\": \"histogram\"}], \"histogram2d\": [{\"colorbar\": {\"outlinewidth\": 0, \"ticks\": \"\"}, \"colorscale\": [[0.0, \"#0d0887\"], [0.1111111111111111, \"#46039f\"], [0.2222222222222222, \"#7201a8\"], [0.3333333333333333, \"#9c179e\"], [0.4444444444444444, \"#bd3786\"], [0.5555555555555556, \"#d8576b\"], [0.6666666666666666, \"#ed7953\"], [0.7777777777777778, \"#fb9f3a\"], [0.8888888888888888, \"#fdca26\"], [1.0, \"#f0f921\"]], \"type\": \"histogram2d\"}], \"histogram2dcontour\": [{\"colorbar\": {\"outlinewidth\": 0, \"ticks\": \"\"}, \"colorscale\": [[0.0, \"#0d0887\"], [0.1111111111111111, \"#46039f\"], [0.2222222222222222, \"#7201a8\"], [0.3333333333333333, \"#9c179e\"], [0.4444444444444444, \"#bd3786\"], [0.5555555555555556, \"#d8576b\"], [0.6666666666666666, \"#ed7953\"], [0.7777777777777778, \"#fb9f3a\"], [0.8888888888888888, \"#fdca26\"], [1.0, \"#f0f921\"]], \"type\": \"histogram2dcontour\"}], \"mesh3d\": [{\"colorbar\": {\"outlinewidth\": 0, \"ticks\": \"\"}, \"type\": \"mesh3d\"}], \"parcoords\": [{\"line\": {\"colorbar\": {\"outlinewidth\": 0, \"ticks\": \"\"}}, \"type\": \"parcoords\"}], \"pie\": [{\"automargin\": true, \"type\": \"pie\"}], \"scatter\": [{\"marker\": {\"colorbar\": {\"outlinewidth\": 0, \"ticks\": \"\"}}, \"type\": \"scatter\"}], \"scatter3d\": [{\"line\": {\"colorbar\": {\"outlinewidth\": 0, \"ticks\": \"\"}}, \"marker\": {\"colorbar\": {\"outlinewidth\": 0, \"ticks\": \"\"}}, \"type\": \"scatter3d\"}], \"scattercarpet\": [{\"marker\": {\"colorbar\": {\"outlinewidth\": 0, \"ticks\": \"\"}}, \"type\": \"scattercarpet\"}], \"scattergeo\": [{\"marker\": {\"colorbar\": {\"outlinewidth\": 0, \"ticks\": \"\"}}, \"type\": \"scattergeo\"}], \"scattergl\": [{\"marker\": {\"colorbar\": {\"outlinewidth\": 0, \"ticks\": \"\"}}, \"type\": \"scattergl\"}], \"scattermapbox\": [{\"marker\": {\"colorbar\": {\"outlinewidth\": 0, \"ticks\": \"\"}}, \"type\": \"scattermapbox\"}], \"scatterpolar\": [{\"marker\": {\"colorbar\": {\"outlinewidth\": 0, \"ticks\": \"\"}}, \"type\": \"scatterpolar\"}], \"scatterpolargl\": [{\"marker\": {\"colorbar\": {\"outlinewidth\": 0, \"ticks\": \"\"}}, \"type\": \"scatterpolargl\"}], \"scatterternary\": [{\"marker\": {\"colorbar\": {\"outlinewidth\": 0, \"ticks\": \"\"}}, \"type\": \"scatterternary\"}], \"surface\": [{\"colorbar\": {\"outlinewidth\": 0, \"ticks\": \"\"}, \"colorscale\": [[0.0, \"#0d0887\"], [0.1111111111111111, \"#46039f\"], [0.2222222222222222, \"#7201a8\"], [0.3333333333333333, \"#9c179e\"], [0.4444444444444444, \"#bd3786\"], [0.5555555555555556, \"#d8576b\"], [0.6666666666666666, \"#ed7953\"], [0.7777777777777778, \"#fb9f3a\"], [0.8888888888888888, \"#fdca26\"], [1.0, \"#f0f921\"]], \"type\": \"surface\"}], \"table\": [{\"cells\": {\"fill\": {\"color\": \"#EBF0F8\"}, \"line\": {\"color\": \"white\"}}, \"header\": {\"fill\": {\"color\": \"#C8D4E3\"}, \"line\": {\"color\": \"white\"}}, \"type\": \"table\"}]}, \"layout\": {\"annotationdefaults\": {\"arrowcolor\": \"#2a3f5f\", \"arrowhead\": 0, \"arrowwidth\": 1}, \"coloraxis\": {\"colorbar\": {\"outlinewidth\": 0, \"ticks\": \"\"}}, \"colorscale\": {\"diverging\": [[0, \"#8e0152\"], [0.1, \"#c51b7d\"], [0.2, \"#de77ae\"], [0.3, \"#f1b6da\"], [0.4, \"#fde0ef\"], [0.5, \"#f7f7f7\"], [0.6, \"#e6f5d0\"], [0.7, \"#b8e186\"], [0.8, \"#7fbc41\"], [0.9, \"#4d9221\"], [1, \"#276419\"]], \"sequential\": [[0.0, \"#0d0887\"], [0.1111111111111111, \"#46039f\"], [0.2222222222222222, \"#7201a8\"], [0.3333333333333333, \"#9c179e\"], [0.4444444444444444, \"#bd3786\"], [0.5555555555555556, \"#d8576b\"], [0.6666666666666666, \"#ed7953\"], [0.7777777777777778, \"#fb9f3a\"], [0.8888888888888888, \"#fdca26\"], [1.0, \"#f0f921\"]], \"sequentialminus\": [[0.0, \"#0d0887\"], [0.1111111111111111, \"#46039f\"], [0.2222222222222222, \"#7201a8\"], [0.3333333333333333, \"#9c179e\"], [0.4444444444444444, \"#bd3786\"], [0.5555555555555556, \"#d8576b\"], [0.6666666666666666, \"#ed7953\"], [0.7777777777777778, \"#fb9f3a\"], [0.8888888888888888, \"#fdca26\"], [1.0, \"#f0f921\"]]}, \"colorway\": [\"#636efa\", \"#EF553B\", \"#00cc96\", \"#ab63fa\", \"#FFA15A\", \"#19d3f3\", \"#FF6692\", \"#B6E880\", \"#FF97FF\", \"#FECB52\"], \"font\": {\"color\": \"#2a3f5f\"}, \"geo\": {\"bgcolor\": \"white\", \"lakecolor\": \"white\", \"landcolor\": \"#E5ECF6\", \"showlakes\": true, \"showland\": true, \"subunitcolor\": \"white\"}, \"hoverlabel\": {\"align\": \"left\"}, \"hovermode\": \"closest\", \"mapbox\": {\"style\": \"light\"}, \"paper_bgcolor\": \"white\", \"plot_bgcolor\": \"#E5ECF6\", \"polar\": {\"angularaxis\": {\"gridcolor\": \"white\", \"linecolor\": \"white\", \"ticks\": \"\"}, \"bgcolor\": \"#E5ECF6\", \"radialaxis\": {\"gridcolor\": \"white\", \"linecolor\": \"white\", \"ticks\": \"\"}}, \"scene\": {\"xaxis\": {\"backgroundcolor\": \"#E5ECF6\", \"gridcolor\": \"white\", \"gridwidth\": 2, \"linecolor\": \"white\", \"showbackground\": true, \"ticks\": \"\", \"zerolinecolor\": \"white\"}, \"yaxis\": {\"backgroundcolor\": \"#E5ECF6\", \"gridcolor\": \"white\", \"gridwidth\": 2, \"linecolor\": \"white\", \"showbackground\": true, \"ticks\": \"\", \"zerolinecolor\": \"white\"}, \"zaxis\": {\"backgroundcolor\": \"#E5ECF6\", \"gridcolor\": \"white\", \"gridwidth\": 2, \"linecolor\": \"white\", \"showbackground\": true, \"ticks\": \"\", \"zerolinecolor\": \"white\"}}, \"shapedefaults\": {\"line\": {\"color\": \"#2a3f5f\"}}, \"ternary\": {\"aaxis\": {\"gridcolor\": \"white\", \"linecolor\": \"white\", \"ticks\": \"\"}, \"baxis\": {\"gridcolor\": \"white\", \"linecolor\": \"white\", \"ticks\": \"\"}, \"bgcolor\": \"#E5ECF6\", \"caxis\": {\"gridcolor\": \"white\", \"linecolor\": \"white\", \"ticks\": \"\"}}, \"title\": {\"x\": 0.05}, \"xaxis\": {\"automargin\": true, \"gridcolor\": \"white\", \"linecolor\": \"white\", \"ticks\": \"\", \"title\": {\"standoff\": 15}, \"zerolinecolor\": \"white\", \"zerolinewidth\": 2}, \"yaxis\": {\"automargin\": true, \"gridcolor\": \"white\", \"linecolor\": \"white\", \"ticks\": \"\", \"title\": {\"standoff\": 15}, \"zerolinecolor\": \"white\", \"zerolinewidth\": 2}}}, \"title\": {\"text\": \"Plano factorial de las 2 primeras componentes\"}},                        {\"responsive\": true}                    ).then(function(){\n",
       "                            \n",
       "var gd = document.getElementById('4a9f26d3-d1db-4c72-882d-f5ba09922ffa');\n",
       "var x = new MutationObserver(function (mutations, observer) {{\n",
       "        var display = window.getComputedStyle(gd).display;\n",
       "        if (!display || display === 'none') {{\n",
       "            console.log([gd, 'removed!']);\n",
       "            Plotly.purge(gd);\n",
       "            observer.disconnect();\n",
       "        }}\n",
       "}});\n",
       "\n",
       "// Listen for the removal of the full notebook cells\n",
       "var notebookContainer = gd.closest('#notebook-container');\n",
       "if (notebookContainer) {{\n",
       "    x.observe(notebookContainer, {childList: true});\n",
       "}}\n",
       "\n",
       "// Listen for the clearing of the current output cell\n",
       "var outputEl = gd.closest('.output');\n",
       "if (outputEl) {{\n",
       "    x.observe(outputEl, {childList: true});\n",
       "}}\n",
       "\n",
       "                        })                };                });            </script>        </div>"
      ]
     },
     "metadata": {},
     "output_type": "display_data"
    }
   ],
   "source": [
    "import plotly.graph_objects as go\n",
    "fig = go.Figure()\n",
    "\n",
    "# Add traces\n",
    "fig.add_trace(go.Scatter(x=Pca_Tra['PC1'], y=Pca_Tra['PC2'],\n",
    "                    mode='markers',\n",
    "                    name='Total'))\n",
    "\n",
    "fig.add_trace(go.Scatter(x=p21['PC1'], y=p21['PC2'],\n",
    "                    mode='markers',\n",
    "                    name='Sobrevivientes'))\n",
    "\n",
    "fig.update_layout(title='Plano factorial de las 2 primeras componentes')\n",
    "\n",
    "fig.show()"
   ]
  },
  {
   "cell_type": "markdown",
   "metadata": {},
   "source": [
    "Se identifica que los primeros 21 registros se encuentran concetrados hacia el 0 en ambos ejes y con una dirección en el eje $X$ siendo la primera componente la determinante de su variabilidad. Lo que indica que la longitud del ave incide en su capacidad de sobrevivir, espcialmente por la longitud de la quilla y por el pico - cabeza"
   ]
  },
  {
   "cell_type": "markdown",
   "metadata": {},
   "source": [
    "5. Haga un biplot de este ejercicio.\n",
    "***"
   ]
  },
  {
   "cell_type": "code",
   "execution_count": 261,
   "metadata": {},
   "outputs": [
    {
     "data": {
      "image/png": "[encoded data removed]",
      "text/plain": [
       "<Figure size 576x576 with 1 Axes>"
      ]
     },
     "metadata": {
      "needs_background": "light"
     },
     "output_type": "display_data"
    }
   ],
   "source": [
    "def biplot(score,coeff,pcax,pcay,labels=None):\n",
    "    plt.figure(figsize=(8,8))\n",
    "    pca1=pcax-1\n",
    "    pca2=pcay-1\n",
    "    xs = score[:,pca1]\n",
    "    ys = score[:,pca2]\n",
    "    n=coeff.shape[1]\n",
    "    scalex = 1.0/(xs.max()- xs.min())\n",
    "    scaley = 1.0/(ys.max()- ys.min())\n",
    "    plt.scatter(xs*scalex,ys*scaley)\n",
    "    for i in range(n):\n",
    "        plt.arrow(0, 0, coeff[pca1,i], coeff[pca2,i],color='r',alpha=0.5) \n",
    "        if labels is None:\n",
    "            plt.text(coeff[pca1,i]* 1.15, coeff[pca2,i] * 1.15, \"Var\"+str(i+1), color='g', ha='center', va='center')\n",
    "        else:\n",
    "            plt.text(coeff[pca1,i]* 1.15, coeff[pca2,i] * 1.15, labels[i], color='g', ha='center', va='center')\n",
    "    plt.xlim(-1,1)\n",
    "    plt.ylim(-1,1)\n",
    "    plt.xlabel(\"PC{}\".format(pcax))\n",
    "    plt.ylabel(\"PC{}\".format(pcay))\n",
    "    plt.grid()\n",
    "\n",
    "biplot(cuanti_pca,pca.components_,1,2,labels=data.columns)"
   ]
  },
  {
   "cell_type": "markdown",
   "metadata": {},
   "source": [
    "6. ¿Cuantas componentes recomienda retener si requiero al menos el 90% de variabilidad total?\n",
    "***"
   ]
  },
  {
   "cell_type": "code",
   "execution_count": 262,
   "metadata": {},
   "outputs": [],
   "source": [
    "pca_90=PCA(n_components=.90)\n",
    "pca_90.fit(CuantiScale)\n",
    "cuanti_pca_90=pca.transform(CuantiScale)"
   ]
  },
  {
   "cell_type": "code",
   "execution_count": 263,
   "metadata": {},
   "outputs": [
    {
     "name": "stdout",
     "output_type": "stream",
     "text": [
      "Ajuste de PCA con variabilidad del 90% (49, 5)\n",
      "[0.72319567 0.10630082 0.07728491]\n",
      "suma: 0.9067813940416762\n"
     ]
    }
   ],
   "source": [
    "print(\"Ajuste de PCA con variabilidad del 90%\", CuantiScale.shape)\n",
    "expl_90 = pca_90.explained_variance_ratio_\n",
    "print(expl_90)\n",
    "print('suma:',sum(expl_90[0:6]))"
   ]
  },
  {
   "cell_type": "markdown",
   "metadata": {},
   "source": [
    "Se requiere retener 3 componentes para tener al menos el 90% de variabilidad"
   ]
  },
  {
   "cell_type": "markdown",
   "metadata": {},
   "source": [
    "7. Haga ahora un análisis de componentes con la matriz de covarianzas.\n",
    "***"
   ]
  },
  {
   "cell_type": "code",
   "execution_count": 264,
   "metadata": {},
   "outputs": [],
   "source": [
    "# Se realiza un arreglo matricial\n",
    "x = data.loc[:,:].values"
   ]
  },
  {
   "cell_type": "code",
   "execution_count": 265,
   "metadata": {},
   "outputs": [],
   "source": [
    "sobreviviente = []\n",
    "\n",
    "for i in range(49):\n",
    "    if i <= 20:\n",
    "        sobreviviente.append(\"Si\")\n",
    "    else:\n",
    "        sobreviviente.append(\"No\")   "
   ]
  },
  {
   "cell_type": "code",
   "execution_count": 266,
   "metadata": {},
   "outputs": [],
   "source": [
    "data21 = data\n",
    "data21['Sobreviviente'] = sobreviviente\n",
    "y = data21.loc[:,['Sobreviviente']].values"
   ]
  },
  {
   "cell_type": "code",
   "execution_count": 267,
   "metadata": {},
   "outputs": [],
   "source": [
    "x2 = StandardScaler(with_std=False).fit_transform(x) "
   ]
  },
  {
   "cell_type": "code",
   "execution_count": 268,
   "metadata": {},
   "outputs": [],
   "source": [
    "features = ['Longitud Total', 'Extensión de las alas', 'Longitud pico y cabeza',\n",
    "       'Longitud del húmero', 'Longitud de la quilla']"
   ]
  },
  {
   "cell_type": "code",
   "execution_count": 269,
   "metadata": {
    "scrolled": true
   },
   "outputs": [],
   "source": [
    "dftip1 = pd.DataFrame(data=x2, columns=[i+ \" tip1\" for i in features])"
   ]
  },
  {
   "cell_type": "code",
   "execution_count": 270,
   "metadata": {},
   "outputs": [],
   "source": [
    "standardbase=pd.DataFrame(x2, columns=features)"
   ]
  },
  {
   "cell_type": "code",
   "execution_count": 271,
   "metadata": {},
   "outputs": [
    {
     "data": {
      "text/plain": [
       "array([[13.3537415 , 13.61096939,  1.92206633,  1.33061224,  2.19221939],\n",
       "       [13.61096939, 25.68282313,  2.71360544,  2.19770408,  2.65782313],\n",
       "       [ 1.92206633,  2.71360544,  0.63163265,  0.34226616,  0.41464711],\n",
       "       [ 1.33061224,  2.19770408,  0.34226616,  0.31841837,  0.33937075],\n",
       "       [ 2.19221939,  2.65782313,  0.41464711,  0.33937075,  0.98282313]])"
      ]
     },
     "execution_count": 271,
     "metadata": {},
     "output_type": "execute_result"
    }
   ],
   "source": [
    "COV=np.cov(np.transpose(x))\n",
    "COV"
   ]
  },
  {
   "cell_type": "code",
   "execution_count": 272,
   "metadata": {},
   "outputs": [
    {
     "data": {
      "text/plain": [
       "(array([35.32575695,  4.62245934,  0.63091779,  0.31278363,  0.07752107]),\n",
       " array([[ 0.53650052,  0.8280999 , -0.15649065,  0.04020969, -0.01765243],\n",
       "        [ 0.82901535, -0.55051223, -0.05774395,  0.06902156,  0.03964203],\n",
       "        [ 0.09649615,  0.03356237,  0.23751487, -0.89762653,  0.35695288],\n",
       "        [ 0.07435219, -0.01459529,  0.20324541, -0.30724056, -0.9265815 ],\n",
       "        [ 0.10030441,  0.09923405,  0.93512262,  0.30575979,  0.1102192 ]]))"
      ]
     },
     "execution_count": 272,
     "metadata": {},
     "output_type": "execute_result"
    }
   ],
   "source": [
    "np.linalg.eig(COV)"
   ]
  },
  {
   "cell_type": "code",
   "execution_count": 273,
   "metadata": {},
   "outputs": [],
   "source": [
    "# Calculo de componentes con covarianza\n",
    "\n",
    "pca = PCA(n_components=2)\n",
    "principalComponents = pca.fit_transform(x)\n",
    "principalDf = pd.DataFrame(data = principalComponents\n",
    "             , columns = ['principal component 1', 'principal component 2'])"
   ]
  },
  {
   "cell_type": "code",
   "execution_count": 274,
   "metadata": {},
   "outputs": [
    {
     "data": {
      "text/html": [
       "<div>\n",
       "<style scoped>\n",
       "    .dataframe tbody tr th:only-of-type {\n",
       "        vertical-align: middle;\n",
       "    }\n",
       "\n",
       "    .dataframe tbody tr th {\n",
       "        vertical-align: top;\n",
       "    }\n",
       "\n",
       "    .dataframe thead th {\n",
       "        text-align: right;\n",
       "    }\n",
       "</style>\n",
       "<table border=\"1\" class=\"dataframe\">\n",
       "  <thead>\n",
       "    <tr style=\"text-align: right;\">\n",
       "      <th></th>\n",
       "      <th>principal component 1</th>\n",
       "      <th>principal component 2</th>\n",
       "    </tr>\n",
       "  </thead>\n",
       "  <tbody>\n",
       "    <tr>\n",
       "      <th>principal component 1</th>\n",
       "      <td>1.000000e+00</td>\n",
       "      <td>4.749529e-16</td>\n",
       "    </tr>\n",
       "    <tr>\n",
       "      <th>principal component 2</th>\n",
       "      <td>4.749529e-16</td>\n",
       "      <td>1.000000e+00</td>\n",
       "    </tr>\n",
       "  </tbody>\n",
       "</table>\n",
       "</div>"
      ],
      "text/plain": [
       "                       principal component 1  principal component 2\n",
       "principal component 1           1.000000e+00           4.749529e-16\n",
       "principal component 2           4.749529e-16           1.000000e+00"
      ]
     },
     "execution_count": 274,
     "metadata": {},
     "output_type": "execute_result"
    }
   ],
   "source": [
    "principalDf.corr()"
   ]
  },
  {
   "cell_type": "code",
   "execution_count": 275,
   "metadata": {},
   "outputs": [],
   "source": [
    "finalDf = pd.concat([principalDf, data[['Sobreviviente']]], axis = 1)"
   ]
  },
  {
   "cell_type": "code",
   "execution_count": 276,
   "metadata": {},
   "outputs": [
    {
     "data": {
      "image/png": "[encoded data removed]",
      "text/plain": [
       "<Figure size 576x576 with 1 Axes>"
      ]
     },
     "metadata": {
      "needs_background": "light"
     },
     "output_type": "display_data"
    }
   ],
   "source": [
    "from mpl_toolkits.mplot3d import Axes3D\n",
    "fig = plt.figure(figsize = (8,8))\n",
    "ax = fig.add_subplot(111, projection='3d')\n",
    "ax.set_xlabel('Principal Component 1', fontsize = 15)\n",
    "ax.set_ylabel('Principal Component 2', fontsize = 15)\n",
    "# ax.set_zlabel('Principal Component 3', fontsize = 15)\n",
    "ax.set_title('2 component PCA Gorriones Sobrevivientes', fontsize = 20)\n",
    "targets = ['Si','No']\n",
    "colors = ['r', 'g', 'b']\n",
    "for target, color in zip(targets,colors):\n",
    "    indicesToKeep = finalDf['Sobreviviente'] == target\n",
    "    ax.scatter(finalDf.loc[indicesToKeep, 'principal component 1']\n",
    "               , finalDf.loc[indicesToKeep, 'principal component 2']\n",
    "#                , finalDf.loc[indicesToKeep, 'principal component 3']\n",
    "               , c = color\n",
    "               , s = 50)\n",
    "ax.legend(targets)\n",
    "ax.grid()"
   ]
  },
  {
   "cell_type": "markdown",
   "metadata": {},
   "source": [
    "8. ¿Cómo se ha afectado la escala respecto al ejercicio con correlaciones?\n",
    "***"
   ]
  },
  {
   "cell_type": "code",
   "execution_count": 277,
   "metadata": {},
   "outputs": [
    {
     "name": "stdout",
     "output_type": "stream",
     "text": [
      "[0.86224654 0.11282701]\n"
     ]
    },
    {
     "data": {
      "image/png": "[encoded data removed]",
      "text/plain": [
       "<Figure size 432x288 with 1 Axes>"
      ]
     },
     "metadata": {
      "needs_background": "light"
     },
     "output_type": "display_data"
    }
   ],
   "source": [
    "print(pca.explained_variance_ratio_)\n",
    "a=len(pca.components_)+1\n",
    "y=range(1,a)\n",
    "plt.plot(range(len(pca.components_)+1), np.concatenate((np.array([0]),np.cumsum(pca.explained_variance_ratio_))))\n",
    "plt.xlabel('Número de componentes')\n",
    "plt.ylabel('Indicador de varianza explicada')\n",
    "plt.title('Nivel de explicación de las componentes')\n",
    "plt.show()"
   ]
  },
  {
   "cell_type": "markdown",
   "metadata": {},
   "source": [
    "Se evidencia que comparado con el ACP de correlaciones y  la misma cantidad de componentes, el ejercicio escalado con la covarianza genera mayor variabilidad de datos."
   ]
  },
  {
   "cell_type": "markdown",
   "metadata": {},
   "source": [
    "9. Compare la proporcion acumulada de porcentaje de variabilidad y explique la diferencia.\n",
    "***"
   ]
  },
  {
   "cell_type": "code",
   "execution_count": 278,
   "metadata": {},
   "outputs": [
    {
     "data": {
      "text/plain": [
       "array([[-0.53650052, -0.82901535, -0.09649615, -0.07435219, -0.10030441],\n",
       "       [ 0.8280999 , -0.55051223,  0.03356237, -0.01459529,  0.09923405]])"
      ]
     },
     "execution_count": 278,
     "metadata": {},
     "output_type": "execute_result"
    }
   ],
   "source": [
    "pca.components_"
   ]
  },
  {
   "cell_type": "code",
   "execution_count": 279,
   "metadata": {},
   "outputs": [
    {
     "name": "stdout",
     "output_type": "stream",
     "text": [
      "PCA con covarianza:  [0.86224654 0.11282701] Total:  0.9750735544596049\n",
      "PCA con correlación:  [0.72319567 0.10630082] Total:  0.8294964842365756\n"
     ]
    },
    {
     "data": {
      "text/plain": [
       "<matplotlib.legend.Legend at 0x19b31665fc8>"
      ]
     },
     "execution_count": 279,
     "metadata": {},
     "output_type": "execute_result"
    },
    {
     "data": {
      "image/png": "[encoded data removed]",
      "text/plain": [
       "<Figure size 800x480 with 1 Axes>"
      ]
     },
     "metadata": {
      "needs_background": "light"
     },
     "output_type": "display_data"
    }
   ],
   "source": [
    "print('PCA con covarianza: ',pca.explained_variance_ratio_, 'Total: ', pca.explained_variance_ratio_.sum())\n",
    "print('PCA con correlación: ', pca_cor, 'Total: ', pca_cor.sum())\n",
    "plt.figure(figsize=(10, 6),dpi=80)\n",
    "plt.plot(range(len(pca.components_)+1), np.concatenate((np.array([0]),np.cumsum(pca.explained_variance_ratio_))), label='PCA COV' )\n",
    "plt.plot(range(len(pca_cor)+1), np.concatenate((np.array([0]),np.cumsum(pca_cor))), label='PCA COR' )\n",
    "plt.xlabel('Número de componentes')\n",
    "plt.ylabel('Indicador de varianza explicada')\n",
    "plt.title('Nivel de explicación de las componentes')\n",
    "plt.legend()"
   ]
  },
  {
   "cell_type": "markdown",
   "metadata": {},
   "source": [
    "Dados los resultados de los ACP de covarianza y correlación se entiende que, con covarianza se alcanzan niveles más altos de variabilidad con las mismas componentes del ACP de correlación, esto debido a la no estandarización de los datos, ya que en correlación quedan estandarizados con media 0 y desviación estándar 1. Se podría usar cualquiera de los dos ACP describiendo previamente el conjunto de datos que se está analizando, para este ejercicio, dado que su escala original no cuenta con necesidad de tipificación, se podría usar el ACP con covarianza; sin embargo, para un ejercicio en el cual se tengan valores con escalas diferenciadas, podría considerar el uso del ACP con correlación."
   ]
  }
 ],
 "metadata": {
  "kernelspec": {
   "display_name": "Python 3",
   "language": "python",
   "name": "python3"
  },
  "language_info": {
   "codemirror_mode": {
    "name": "ipython",
    "version": 3
   },
   "file_extension": ".py",
   "mimetype": "text/x-python",
   "name": "python",
   "nbconvert_exporter": "python",
   "pygments_lexer": "ipython3",
   "version": "3.7.9"
  }
 },
 "nbformat": 4,
 "nbformat_minor": 4
}
